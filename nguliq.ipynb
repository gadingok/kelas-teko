{
 "cells": [
  {
   "cell_type": "code",
   "execution_count": 1,
   "metadata": {},
   "outputs": [
    {
     "name": "stdout",
     "output_type": "stream",
     "text": [
      "1.0\n"
     ]
    }
   ],
   "source": [
    "import numpy as np\n",
    "y = np.sin(np.pi/2)\n",
    "print(y)"
   ]
  },
  {
   "cell_type": "markdown",
   "metadata": {},
   "source": []
  },
  {
   "cell_type": "markdown",
   "metadata": {},
   "source": [
    "# Tugas Modul 3\n",
    "\n",
    "## Metode Numerik Pencari Akar Persamaan\n",
    "\n",
    "**SOAL 1**\n",
    "\n",
    "Dalam Jupyter Notebook ini, kita akan membahas dua metode numerik populer untuk mencari akar-akar persamaan: **Metode Regula Falsi (False Position)** dan **Metode Secant**. Untuk setiap metode, kita akan mempelajari motivasinya, langkah-langkah algoritmanya, implementasi dalam Python, serta contoh penerapannya pada kasus fisika yang berbeda dari modul.\n",
    "\n",
    "Per kelompok akan mempresentasikan di kelas di awal pertemuan pada 20 Maret 2025 sebelum masuk pembahasan materi berikutnya oleh dosen pengampu.\n",
    "\n",
    "---\n",
    "\n",
    "## 1. Metode Regula Falsi (False Position)\n",
    "\n",
    "### Pendahuluan/Motivasi\n",
    "\n",
    "**Metode Regula Falsi**, atau dikenal juga sebagai **Metode Posisi Palsu**, adalah salah satu metode pencari akar **tertutup**. Ini berarti metode ini membutuhkan dua titik awal, $a$ dan $b$, yang harus mengapit akar (yaitu, $f(a)$ dan $f(b)$ memiliki tanda yang berlawanan). Dengan demikian, keberadaan akar di antara $a$ dan $b$ sudah terjamin.\n",
    "\n",
    "Motivasi utama di balik Regula Falsi adalah untuk **mempercepat konvergensi** dibandingkan dengan metode bagi dua (bisection). Alih-alih hanya membagi dua interval secara arbitrer, Regula Falsi memanfaatkan informasi nilai fungsi. Metode ini menggambar garis lurus (garis sekan) yang menghubungkan titik $(a, f(a))$ dan $(b, f(b))$. Titik potong garis sekan ini dengan sumbu $x$ kemudian dijadikan perkiraan akar yang baru. Pendekatan ini seringkali lebih efisien karena secara cerdas \"mendekati\" akar dengan mempertimbangkan kemiringan fungsi.\n",
    "\n",
    "### Langkah-langkah Algoritma disertai *Pseudocode*\n",
    "\n",
    "**Asumsi:** Fungsi $f(x)$ kontinu pada interval $[a, b]$ dan $f(a) \\cdot f(b) < 0$.\n",
    "\n",
    "1.  **Inisialisasi:**\n",
    "    * Pilih dua titik awal $a$ dan $b$ sehingga $f(a) \\cdot f(b) < 0$.\n",
    "    * Tentukan **toleransi kesalahan** ($\\epsilon$) dan **jumlah iterasi maksimum** ($max\\_iter$).\n",
    "2.  **Iterasi:** Lakukan perulangan hingga kriteria konvergensi terpenuhi atau jumlah iterasi maksimum tercapai.\n",
    "    * Hitung titik perkiraan akar baru, $c$, menggunakan rumus interpolasi linier:\n",
    "        $$c = b - \\frac{f(b)(b - a)}{f(b) - f(a)}$$\n",
    "    * Evaluasi $f(c)$.\n",
    "    * **Perbarui Interval:**\n",
    "        * Jika $f(c) = 0$, maka $c$ adalah akar eksak. Hentikan iterasi.\n",
    "        * Jika $f(a) \\cdot f(c) < 0$, berarti akar berada di interval $[a, c]$. Set $b = c$.\n",
    "        * Jika $f(b) \\cdot f(c) < 0$, berarti akar berada di interval $[c, b]$. Set $a = c$.\n",
    "    * Periksa kriteria konvergensi. Misalnya, $|f(c)| < \\epsilon$ atau nilai relatif perubahan akar $|(c_{baru} - c_{lama}) / c_{baru}| < \\epsilon$.\n",
    "3.  **Output:** Akar yang ditemukan atau pesan bahwa metode gagal konvergen dalam jumlah iterasi maksimum.\n",
    "\n",
    "**Pseudocode:**\n",
    "\n",
    "```pseudocode\n",
    "FUNCTION RegulaFalsi(f, a, b, epsilon, max_iter):\n",
    "    IF f(a) * f(b) >= 0 THEN\n",
    "        PRINT \"Error: f(a) dan f(b) harus memiliki tanda yang berlawanan.\"\n",
    "        RETURN NULL\n",
    "    END IF\n",
    "\n",
    "    iter_count = 0\n",
    "    c_prev = NULL  // Untuk melacak akar sebelumnya dan memeriksa konvergensi\n",
    "\n",
    "    WHILE iter_count < max_iter:\n",
    "        // Hitung perkiraan akar baru menggunakan rumus Regula Falsi\n",
    "        c = b - (f(b) * (b - a)) / (f(b) - f(a))\n",
    "\n",
    "        // Kriteria penghentian berdasarkan perubahan relatif akar\n",
    "        IF c_prev IS NOT NULL AND ABS((c - c_prev) / c) < epsilon THEN\n",
    "            RETURN c\n",
    "        END IF\n",
    "\n",
    "        // Kriteria penghentian berdasarkan nilai fungsi mendekati nol\n",
    "        IF ABS(f(c)) < epsilon THEN\n",
    "            RETURN c\n",
    "        END IF\n",
    "\n",
    "        // Perbarui interval\n",
    "        IF f(a) * f(c) < 0 THEN\n",
    "            b = c\n",
    "        ELSE\n",
    "            a = c\n",
    "        END IF\n",
    "\n",
    "        c_prev = c // Simpan akar saat ini untuk iterasi berikutnya\n",
    "        iter_count = iter_count + 1\n",
    "\n",
    "    PRINT \"Metode gagal konvergen dalam jumlah iterasi maksimum.\"\n",
    "    RETURN NULL\n",
    "END FUNCTION"
   ]
  },
  {
   "cell_type": "code",
   "execution_count": 8,
   "metadata": {},
   "outputs": [
    {
     "name": "stdout",
     "output_type": "stream",
     "text": [
      "Mencari akar fungsi percepatan_sudut(theta) = g/L * sin(theta) + k * theta^2 = 0 menggunakan Regula Falsi:\n",
      "Konvergen setelah 4 iterasi.\n",
      "\n",
      "Sudut theta yang ditemukan saat percepatan sudut nol: -0.000000 radian\n",
      "Nilai fungsi pada akar: f(-0.000000) = -5.998513e-11\n"
     ]
    }
   ],
   "source": [
    "def percepatan_sudut(theta):\n",
    "    g = 9.81  \n",
    "    L = 1.0   \n",
    "    k = 0.1   \n",
    "    return (g / L) * np.sin(theta) + k * (theta**2)\n",
    "\n",
    "a = -1.0\n",
    "b = 1.0\n",
    "\n",
    "print(f\"Mencari akar fungsi percepatan_sudut(theta) = g/L * sin(theta) + k * theta^2 = 0 menggunakan Regula Falsi:\")\n",
    "akar_regula_falsi_fisika = regula_falsi(percepatan_sudut, a, b, epsilon=1e-7, max_iter=200)\n",
    "\n",
    "if akar_regula_falsi_fisika is not None:\n",
    "    print(f\"\\nSudut theta yang ditemukan saat percepatan sudut nol: {akar_regula_falsi_fisika:.6f} radian\")\n",
    "    print(f\"Nilai fungsi pada akar: f({akar_regula_falsi_fisika:.6f}) = {percepatan_sudut(akar_regula_falsi_fisika):.6e}\")"
   ]
  },
  {
   "cell_type": "markdown",
   "metadata": {},
   "source": []
  },
  {
   "cell_type": "markdown",
   "metadata": {},
   "source": [
    "## 2. Metode Secant\n",
    "\n",
    "### Pendahuluan/Motivasi\n",
    "\n",
    "**Metode Secant** adalah metode pencari akar **terbuka** yang merupakan modifikasi dari metode Newton-Raphson. Perbedaan utamanya yang signifikan adalah bahwa Metode Secant **tidak memerlukan perhitungan turunan fungsi ($f'(x)$)**. Ini adalah keuntungan besar, terutama ketika turunan fungsi sulit atau bahkan tidak mungkin dihitung secara analitis.\n",
    "\n",
    "Motivasi di balik metode Secant adalah untuk mengaproksimasi turunan $f'(x_n)$ dalam rumus Newton-Raphson menggunakan beda hingga. Daripada menggunakan turunan eksak, metode Secant menggunakan kemiringan garis sekan yang menghubungkan dua titik perkiraan terakhir, $(x_{n-1}, f(x_{n-1}))$ dan $(x_n, f(x_n))$. Ini memungkinkan metode ini untuk beroperasi hanya dengan evaluasi fungsi. Namun, sebagai metode terbuka, **tidak ada jaminan konvergensi** untuk semua kasus atau pemilihan titik awal yang sembarang.\n",
    "\n",
    "### Langkah-langkah Algoritma disertai *Pseudocode*\n",
    "\n",
    "1.  **Inisialisasi:**\n",
    "    * Pilih dua titik awal $x_0$ dan $x_1$. Berbeda dengan Regula Falsi, $f(x_0)$ dan $f(x_1)$ tidak harus memiliki tanda yang berlawanan.\n",
    "    * Tentukan **toleransi kesalahan** ($\\epsilon$) dan **jumlah iterasi maksimum** ($max\\_iter$).\n",
    "2.  **Iterasi:** Lakukan perulangan hingga kriteria konvergensi terpenuhi atau jumlah iterasi maksimum tercapai.\n",
    "    * Hitung perkiraan akar baru, $x_{i+1}$, menggunakan rumus:\n",
    "        $$x_{i+1} = x_i - f(x_i) \\frac{x_i - x_{i-1}}{f(x_i) - f(x_{i-1})}$$\n",
    "    * Perbarui nilai: $x_{i-1} = x_i$ dan $x_i = x_{i+1}$.\n",
    "    * Periksa kriteria konvergensi, misalnya nilai relatif perubahan akar $|(x_{i+1} - x_i) / x_{i+1}| < \\epsilon$.\n",
    "3.  **Output:** Akar yang ditemukan atau pesan bahwa metode gagal konvergen dalam jumlah iterasi maksimum.\n",
    "\n",
    "**Pseudocode:**\n",
    "\n",
    "```pseudocode\n",
    "FUNCTION Secant(f, x0, x1, epsilon, max_iter):\n",
    "    // Cek awal untuk menghindari pembagian dengan nol jika f(x0) dan f(x1) sangat dekat\n",
    "    IF ABS(f(x1) - f(x0)) < 1e-10 THEN\n",
    "        PRINT \"Error: f(x0) dan f(x1) terlalu dekat atau sama, metode mungkin tidak konvergen.\"\n",
    "        RETURN NULL\n",
    "    END IF\n",
    "\n",
    "    iter_count = 0\n",
    "\n",
    "    WHILE iter_count < max_iter:\n",
    "        // Hindari pembagian dengan nol atau nilai yang sangat kecil\n",
    "        IF ABS(f(x1) - f(x0)) < 1e-10 THEN\n",
    "            PRINT \"Penyebut mendekati nol pada iterasi ini. Metode mungkin tidak konvergen.\"\n",
    "            RETURN NULL\n",
    "        END IF\n",
    "\n",
    "        // Hitung perkiraan akar baru menggunakan rumus Secant\n",
    "        x_new = x1 - f(x1) * (x1 - x0) / (f(x1) - f(x0))\n",
    "\n",
    "        // Kriteria penghentian: perubahan relatif akar kurang dari epsilon\n",
    "        IF ABS((x_new - x1) / x_new) < epsilon THEN\n",
    "            RETURN x_new\n",
    "        END IF\n",
    "\n",
    "        // Perbarui nilai x0 dan x1 untuk iterasi berikutnya\n",
    "        x0 = x1\n",
    "        x1 = x_new\n",
    "        iter_count = iter_count + 1\n",
    "\n",
    "    PRINT \"Metode gagal konvergen dalam jumlah iterasi maksimum.\"\n",
    "    RETURN NULL\n",
    "END FUNCTION"
   ]
  },
  {
   "cell_type": "code",
   "execution_count": 12,
   "metadata": {},
   "outputs": [
    {
     "name": "stdout",
     "output_type": "stream",
     "text": [
      "\n",
      "Mencari akar fungsi percepatan_sudut(theta) = g/L * sin(theta) + k * theta^2 = 0 menggunakan Metode Secant:\n",
      "Penyebut mendekati nol pada iterasi 7. Metode mungkin tidak konvergen.\n"
     ]
    }
   ],
   "source": [
    "import numpy as np\n",
    "\n",
    "# Definisikan fungsi percepatan sudut\n",
    "def percepatan_sudut(theta):\n",
    "    g = 9.81\n",
    "    L = 1.0\n",
    "    k = 0.1\n",
    "    return (g / L) * np.sin(theta) + k * (theta**2)\n",
    "\n",
    "x0 = -0.8\n",
    "x1 = -0.5\n",
    "\n",
    "print(f\"\\nMencari akar fungsi percepatan_sudut(theta) = g/L * sin(theta) + k * theta^2 = 0 menggunakan Metode Secant:\")\n",
    "akar_secant_fisika = secant_method(percepatan_sudut, x0, x1, epsilon=1e-7, max_iter=200)\n",
    "\n",
    "if akar_secant_fisika is not None:\n",
    "    print(f\"\\nSudut theta yang ditemukan saat percepatan sudut nol: {akar_secant_fisika:.6f} radian\")\n",
    "    print(f\"Nilai fungsi pada akar: f({akar_secant_fisika:.6f}) = {percepatan_sudut(akar_secant_fisika):.6e}\")"
   ]
  },
  {
   "cell_type": "code",
   "execution_count": null,
   "metadata": {},
   "outputs": [],
   "source": []
  }
 ],
 "metadata": {
  "kernelspec": {
   "display_name": "Python 3",
   "language": "python",
   "name": "python3"
  },
  "language_info": {
   "codemirror_mode": {
    "name": "ipython",
    "version": 3
   },
   "file_extension": ".py",
   "mimetype": "text/x-python",
   "name": "python",
   "nbconvert_exporter": "python",
   "pygments_lexer": "ipython3",
   "version": "3.11.9"
  }
 },
 "nbformat": 4,
 "nbformat_minor": 2
}
