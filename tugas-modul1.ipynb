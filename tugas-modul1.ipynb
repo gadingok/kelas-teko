{
 "cells": [
  {
   "cell_type": "markdown",
   "metadata": {},
   "source": [
    "1. Buat daftar 5 situs web yang paling sering kalian kunjungi dan sertakan tautan (URL/link) untuk setiap situs tersebut.\n",
    "\n",
    "jawab \n",
    "\n",
    "* [LMS](https://lms.telkomuniversity.ac.id/login/index.php)\n",
    "* [YouTube](https://www.youtube.com/)\n",
    "* [Tik Tok](https://www.tiktok.com/)\n",
    "* [Gemini](https://gemini.google.com/app?hl=id)\n",
    "* [ChatGpt](https://openai.com/)\n"
   ]
  },
  {
   "cell_type": "markdown",
   "metadata": {},
   "source": [
    "2. Tulis 1 paragraf bebas (minimal 5 kalimat) tentang fisikawan favorit kalian dan berikan tautan sumber (misal: Wikipedia) beserta gambar fisikawannya.\n",
    "\n",
    "jawab\n",
    "\n",
    "Isaac Newton (born December 25, 1642 [January 4, 1643, New Style], Woolsthorpe, Lincolnshire, England—died March 20 [March 31], 1727, London) was an English physicist and mathematician who was the culminating figure of the Scientific Revolution of the 17th century. In optics, his discovery of the composition of white light integrated the phenomena of colours into the science of light and laid the foundation for modern physical optics. In mechanics, his three laws of motion, the basic principles of modern physics, resulted in the formulation of the law of universal gravitation. In mathematics, he was the original discoverer of the infinitesimal calculus. Newton’s Philosophiae Naturalis Principia Mathematica (Mathematical Principles of Natural Philosophy, 1687) was one of the most important single works in the history of modern science.\n",
    "\n",
    "![isak newton](https://www.thefamouspeople.com/profiles/images/isaac-newton-24.jpg)"
   ]
  },
  {
   "cell_type": "markdown",
   "metadata": {},
   "source": [
    "3. Buat tabel yang berisi semua mata kuliah yang kalian ambil di semester ini dalam bentuk kolom-kolom: Kode Mata Kuliah, Nama Mata Kuliah, Nama Dosen.\n",
    "\n",
    "jawab\n",
    "\n",
    "| No | Kode Matkul | Nama Matkul | Nama Dosen |\n",
    "| :---: | :---: | :---: | :---: |\n",
    "| 1. | UBKXACB2 | KEWARGANEGARAAN | MUHAMMAD YUNUS MAULANA |\n",
    "| 2. | ADK3HAB3 | KONTROL AUTOMATIK | ASEP SUHENDI |\n",
    "| 3. | ADK3GAB2 | MENGGAMBAR INSTRUMEN | AMALIYAH ROHSARI INDAH UTAMI |\n",
    "| 4. | AZK2EAB3 | ELEKTROMAGNETIKA | ISMUDIATI PURI HANDAYANI |\n",
    "| 5. | ADK2MAB3 | TEKNIK KOMPUTASI | AHMAD RIDWAN TRESNA NUGRAHA |\n",
    "| 6. | ADK2KAB3 | FUNGSI KOMPLEKS | MEMORIA ROSI |\n",
    "| 7. | ADK3IAB3 | SISTEM INSTRUMENTASI | DUDI DARMAWAN |\n"
   ]
  },
  {
   "cell_type": "markdown",
   "metadata": {},
   "source": [
    "4. Tulis kode LaTeX untuk menampilkan salah satu identitas trigonometri berikut ini:\n",
    "\n",
    "jawab\n",
    "\n",
    "$$\\cos(\\alpha \\pm \\beta) = \\cos \\alpha \\cos \\beta \\mp \\sin \\alpha \\sin \\beta$$"
   ]
  },
  {
   "cell_type": "markdown",
   "metadata": {},
   "source": [
    "5. Tulis kode LaTeX untuk menampilkan integral tak-tentu\n",
    "\n",
    "jawab\n",
    "\n",
    "$$\\int \\frac{1}{1 + x^2} \\, dx = \\arctan x + C$$"
   ]
  },
  {
   "cell_type": "markdown",
   "metadata": {},
   "source": [
    "6. Tulis kode LaTeX untuk menampilkan persamaan Navier-Stokes\n",
    "\n",
    "jawab\n",
    "\n",
    "$$\\frac{\\partial \\mathbf{u}}{\\partial t} + (\\mathbf{u} \\cdot \\nabla) \\mathbf{u} - \\nu \\nabla^2 \\mathbf{u} = - \\nabla w + \\mathbf{g}$$\n"
   ]
  },
  {
   "cell_type": "markdown",
   "metadata": {},
   "source": [
    "7. Tulis kode LaTeX untuk menampilkan deret Taylor\n",
    "\n",
    "jawab\n",
    "\n",
    "$$\\sum_{n=0}^{\\infty} \\frac{f^{(n)}(a)}{n!} (x-a)^n$$"
   ]
  },
  {
   "cell_type": "markdown",
   "metadata": {},
   "source": [
    "8. Tulis kode LaTeX untuk menampilkan formula matriks invers\n",
    "\n",
    "jawab\n",
    "\n",
    "$$\\begin{bmatrix} a & b \\\\ c & d \\end{bmatrix}^{-1} = \\frac{1}{ad - bc} \\begin{bmatrix} d & -b \\\\ -c & a \\end{bmatrix}$$"
   ]
  },
  {
   "cell_type": "markdown",
   "metadata": {},
   "source": [
    "9. Misalkan fungsi $f(x) = \\cos(x)$ didekati dengan deret Taylor hingga orde 2, yaitu:\n",
    "\n",
    "$$T_2(x) = 1 - \\frac{x^2}{2}.$$\n",
    "\n",
    "**(a)** Hitung nilai aproksimasi $T_2\\left(\\frac{\\pi}{3}\\right)$ dan bandingkan dengan nilai eksak $\\cos\\left(\\frac{\\pi}{3}\\right)$.\n",
    "\n",
    "jawab\n",
    "\n",
    "* Nilai Aproksimasi:\n",
    "    $$T_2\\left(\\frac{\\pi}{3}\\right) = 1 - \\frac{\\left(\\frac{\\pi}{3}\\right)^2}{2} \\approx 0.4517$$\n",
    "* Nilai Eksak:\n",
    "    $$\\cos\\left(\\frac{\\pi}{3}\\right) = \\frac{1}{2} = 0.5$$\n",
    "* Perbandingan:\n",
    "    $$|0.4517 - 0.5| = 0.0483$$\n",
    "\n",
    "**(b)** Gunakan bentuk sisa Lagrange untuk deret Taylor guna mengestimasi galat pemotongan (*truncation error*) pada $x = \\frac{\\pi}{3}$.\n",
    "\n",
    "jawab\n",
    "\n",
    "* Bentuk Sisa Lagrange:\n",
    "    $$R_2\\left(\\frac{\\pi}{3}\\right) = \\frac{\\sin(c)}{3!}\\left(\\frac{\\pi}{3}\\right)^3$$\n",
    "* Estimasi Galat:\n",
    "    $$|R_2\\left(\\frac{\\pi}{3}\\right)| \\le \\frac{1}{6}\\left(\\frac{\\pi}{3}\\right)^3 \\approx 0.0577$$\n",
    "\n",
    "**(c)** Diskusikan peran galat pembulatan dalam perhitungan ini serta jelaskan bagaimana galat pembulatan dan galat pemotongan dapat mempengaruhi keakuratan hasil akhir.\n",
    "\n",
    "jawab\n",
    "\n",
    "* Galat pembulatan terjadi karena keterbatasan digit yang disimpan.\n",
    "* Galat pemotongan terjadi karena pemotongan deret Taylor.\n",
    "* Keduanya mempengaruhi akurasi hasil akhir.\n",
    "\n",
    "**(d)** Berdasarkan perhitungan di atas, evaluasi apakah aproksimasi tersebut dapat diterima jika batas toleransi yang diinginkan adalah $10^{-4}$.\n",
    "\n",
    "jawab\n",
    "\n",
    "* Galat pemotongan: $0.0483$\n",
    "* Batas toleransi: $10^{-4} = 0.0001$\n",
    "* Kesimpulan: Aproksimasi tidak dapat diterima."
   ]
  },
  {
   "cell_type": "markdown",
   "metadata": {},
   "source": [
    "10. Ambil bilangan desimal 7.25.\n",
    "\n",
    "**(a)** Konversikan bilangan ini ke dalam format biner.\n",
    "\n",
    "jawab\n",
    "\n",
    "* Bagian bulat: 7 dalam biner adalah 111.\n",
    "* Bagian pecahan: 0.25 dalam biner adalah 0.01.\n",
    "* Jadi, 7.25 dalam biner adalah 111.01.\n",
    "\n",
    "**(b)** Tunjukkan langkah normalisasi bilangan tersebut ke dalam bentuk $1.m \\times 2^E$ dan tentukan nilai mantisa $m$ serta eksponen $E$.\n",
    "\n",
    "jawab\n",
    "\n",
    "* Normalisasi: 111.01 = $1.1101 \\times 2^2$.\n",
    "* Mantisa $m$: 1101.\n",
    "* Eksponen $E$: 2.\n",
    "\n",
    "**(c)** Representasikan bilangan ini dalam format floating-point IEEE 754 presisi tunggal (32-bit) dengan menjelaskan tiga komponen utamanya: bit tanda, eksponen (dengan pergeseran 127), dan mantisa.\n",
    "\n",
    "jawab\n",
    "\n",
    "* Bit tanda: Karena 7.25 positif, bit tanda adalah 0.\n",
    "* Eksponen: 2 + 127 = 129, yang dalam biner adalah 10000001.\n",
    "* Mantisa: 1101, dilengkapi dengan 0 hingga 23 bit: 11010000000000000000000.\n",
    "* Representasi IEEE 754: 0 10000001 11010000000000000000000.\n",
    "\n",
    "**(d)** Diskusikan bagaimana keterbatasan representasi (ukuran variabel 32-bit) dapat mempengaruhi presisi perhitungan, serta dampak potensial dari galat pembulatan pada perhitungan numerik yang melibatkan bilangan tersebut.\n",
    "\n",
    "jawab\n",
    "\n",
    "* Keterbatasan representasi: Hanya 23 bit yang dialokasikan untuk mantisa, sehingga bilangan dengan presisi lebih tinggi akan dibulatkan.\n",
    "* Galat pembulatan: Dapat terjadi saat mengkonversi bilangan desimal yang tidak memiliki representasi biner yang tepat, atau saat hasil operasi aritmetika melebihi presisi yang tersedia.\n",
    "* Dampak: Galat pembulatan dapat mengakumulasi dalam perhitungan numerik, menyebabkan hasil yang tidak akurat."
   ]
  }
 ],
 "metadata": {
  "language_info": {
   "name": "python"
  }
 },
 "nbformat": 4,
 "nbformat_minor": 2
}
