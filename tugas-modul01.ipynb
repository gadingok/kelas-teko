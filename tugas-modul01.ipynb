{
 "cells": [
  {
   "cell_type": "markdown",
   "metadata": {},
   "source": [
    "1. Buat daftar 5 situs web yang paling sering kalian kunjungi dan sertakan tautan (URL/link) untuk setiap situs tersebut.\n",
    "\n",
    "* [LMS](https://lms.telkomuniversity.ac.id/my/)\n",
    "* [youtube](https://www.youtube.com/)\n",
    "* [gemini](https://gemini.google.com/app?hl=id)\n",
    "* [chess.com](https://www.chess.com/home)\n",
    "* [chat gpt](https://openai.com/chatgpt/overview/)\n"
   ]
  },
  {
   "cell_type": "markdown",
   "metadata": {},
   "source": [
    "2. Tulis 1 paragraf bebas (minimal 5 kalimat) tentang fisikawan favorit kalian dan berikan tautan sumber (misal: Wikipedia) beserta gambar fisikawannya.\n",
    "Thomas Alva Edison (February 11, 1847 – October 18, 1931) was an American inventor and businessman. He developed many devices in fields such as electric power generation, mass communication, sound recording, and motion pictures.[4] These inventions, which include the phonograph, the motion picture camera, and early versions of the electric light bulb, have had a widespread impact on the modern industrialized world. He was one of the first inventors to apply the principles of organized science and teamwork to the process of invention, working with many researchers and employees. He established the first industrial research laboratory.\n",
    "Edison was raised in the American Midwest. Early in his career he worked as a telegraph operator, which inspired some of his earliest inventions.[4] In 1876, he established his first laboratory facility in Menlo Park, New Jersey, where many of his early inventions were developed. He later established a botanical laboratory in Fort Myers, Florida, in collaboration with businessmen Henry Ford and Harvey S. Firestone, and a laboratory in West Orange, New Jersey, that featured the world's first film studio, the Black Maria. With 1,093 US patents in his name, as well as patents in other countries, Edison is regarded as the most prolific inventor in American history. Edison married twice and fathered six children. He died in 1931 due to complications from diabetes.\n",
    "![thomas edison ](https://upload.wikimedia.org/wikipedia/commons/9/9d/Thomas_Edison2.jpg)\n"
   ]
  },
  {
   "cell_type": "markdown",
   "metadata": {},
   "source": [
    "3. Buat tabel yang berisi semua mata kuliah yang kalian ambil di semester ini dalam bentuk kolom-kolom: Kode Mata Kuliah, Nama Mata Kuliah, Nama Dosen.\n",
    "\n",
    "| no | Kode Matkul | Nama Matkul | Nama Dosen |\n",
    "| :---: | :---: | :---: | :---: |\n",
    "| 1 | ADK3GAB2 | MENGGAMBAR INSTRUMEN | UMI |\n",
    "| 2 | AZK2EAB3 | ELEKTROMAGNETIKA | ISR |\n",
    "| 3 | UBKXACB2 | KEWARGANEGARAAN | MYM |\n",
    "| 4 | ADK3HAB3 | KONTROL AUTOMATIK | SEN |\n",
    "| 5 | ADK2MAB3 | TEKNIK KOMPUTASI | RWG |\n",
    "| 6 | ADK2KAB3 | FUNGSI KOMPLEKS | MMS |\n",
    "| 7 | ADK3IAB3 | SISTEM INSTRUMENTASI | DDW |"
   ]
  },
  {
   "cell_type": "markdown",
   "metadata": {},
   "source": [
    "4. Tulis kode LaTeX untuk menampilkan salah satu identitas trigonometri berikut ini: \n",
    "\n",
    "jawab\n",
    "$$\\cos(\\alpha \\pm \\beta) = \\cos \\alpha \\cos \\beta \\mp \\sin \\alpha \\sin \\beta$$\n"
   ]
  },
  {
   "cell_type": "markdown",
   "metadata": {},
   "source": [
    "5. Tulis kode LaTeX untuk menampilkan integral tak-tentu\n",
    " \n",
    " jawab\n",
    " $$\\int \\frac{1}{1 + x^2} \\, dx = \\arctan x + C$$"
   ]
  },
  {
   "cell_type": "markdown",
   "metadata": {},
   "source": [
    "6. Tulis kode LaTeX untuk menampilkan persamaan Navier-Stokes\n",
    "\n",
    "jawab\n",
    "$$\\frac{\\partial \\mathbf{u}}{\\partial t} + (\\mathbf{u} \\cdot \\nabla) \\mathbf{u} - \\nu \\nabla^2 \\mathbf{u} = - \\nabla w + \\mathbf{g}$$"
   ]
  },
  {
   "cell_type": "markdown",
   "metadata": {},
   "source": [
    "7. Tulis kode LaTeX untuk menampilkan deret Taylor\n",
    "\n",
    "jawab\n",
    "$$\\sum_{n=0}^{\\infty} \\frac{f^{(n)}(a)}{n!} (x-a)^n$$"
   ]
  },
  {
   "cell_type": "markdown",
   "metadata": {},
   "source": [
    "8. Tulis kode LaTeX untuk menampilkan formula matriks invers\n",
    "\n",
    "jawab\n",
    "$$\\begin{bmatrix} a & b \\\\ c & d \\end{bmatrix}^{-1} = \\frac{1}{ad - bc} \\begin{bmatrix} d & -b \\\\ -c & a \\end{bmatrix}$$"
   ]
  },
  {
   "cell_type": "markdown",
   "metadata": {},
   "source": [
    "9. Misalkan fungsi $f(x) = \\cos(x)$ didekati dengan deret Taylor hingga orde 2, yaitu:\n",
    "\n",
    "$$\n",
    "T_2(x) = 1 - \\frac{x^2}{2}.\n",
    "$$\n",
    "\n",
    "jawab\n",
    "**(a) Nilai Aproksimasi dan Perbandingan dengan Nilai Eksak**\n",
    "\n",
    "* **Nilai Aproksimasi:**\n",
    "    $$T_2\\left(\\frac{\\pi}{3}\\right) = 1 - \\frac{(\\pi/3)^2}{2} = 1 - \\frac{\\pi^2}{18} \\ \n",
    "    = 0.4517$$\n",
    "* **Nilai Eksak:**\n",
    "    $$\\cos\\left(\\frac{\\pi}{3}\\right) = \\frac{1}{2} = 0.5$$\n",
    "* **Perbandingan:**\n",
    "    $$|0.5 - 0.4517| = 0.0483$$\n",
    "\n",
    "**(b) Estimasi Galat Pemotongan dengan Sisa Lagrange**\n",
    "\n",
    "* **Sisa Lagrange:**\n",
    "    $$R_n(x) = \\frac{f^{(n+1)}(c)}{(n+1)!}(x-a)^{n+1}$$\n",
    "    Dalam kasus ini, $n=2$, $a=0$, dan $x=\\frac{\\pi}{3}$.\n",
    "    $$R_2\\left(\\frac{\\pi}{3}\\right) = \\frac{-\\sin(c)}{3!}\\left(\\frac{\\pi}{3}\\right)^3$$\n",
    "    $$|R_2\\left(\\frac{\\pi}{3}\\right)| \\le \\frac{\\sqrt{3}/2}{6}\\left(\\frac{\\pi}{3}\\right)^3 \\ = 0.0083$$\n",
    "\n",
    "**(c) Peran Galat Pembulatan dan Pengaruhnya**\n",
    "\n",
    "* **Galat Pembulatan:**\n",
    "    Terjadi karena presisi terbatas komputer.\n",
    "* **Pengaruh Galat:**\n",
    "    Galat pemotongan dan pembulatan mempengaruhi keakuratan.\n",
    "\n",
    "**(d) Evaluasi Aproksimasi dengan Batas Toleransi**\n",
    "\n",
    "* **Batas Toleransi:** $10^{-4} = 0.0001$\n",
    "* **Galat Total:**\n",
    "    Galat pemotongan $\\approx 0.0083$.\n",
    "* **Evaluasi:**\n",
    "    Aproksimasi tidak dapat diterima karena galat pemotongan melebihi batas toleransi."
   ]
  },
  {
   "cell_type": "markdown",
   "metadata": {},
   "source": [
    "10. Ambil bilangan desimal 7.25.\n",
    "\n",
    "Lakukanlah langkah-langkah berikut:\n",
    "\n",
    "**(a)** Konversikan bilangan ini ke dalam format biner.\n",
    "\n",
    "**Jawab:**\n",
    "* Bagian bulat (7):\n",
    "    * 7 / 2 = 3 sisa 1\n",
    "    * 3 / 2 = 1 sisa 1\n",
    "    * 1 / 2 = 0 sisa 1\n",
    "    * Maka, 7 dalam biner adalah 111.\n",
    "* Bagian pecahan (0.25):\n",
    "    * 0.25 * 2 = 0.5 sisa 0\n",
    "    * 0.5 * 2 = 1.0 sisa 1\n",
    "    * Maka, 0.25 dalam biner adalah 01.\n",
    "* Gabungan: 7.25 dalam biner adalah 111.01.\n",
    "\n",
    "**(b)** Tunjukkan langkah normalisasi bilangan tersebut ke dalam bentuk $1.m \\times 2^E$ dan tentukan nilai mantisa $m$ serta eksponen $E$.\n",
    "\n",
    "**Jawab:**\n",
    "* Normalisasi: $111.01 = 1.1101 \\times 2^2$\n",
    "* Mantisa ($m$): 1101\n",
    "* Eksponen ($E$): 2\n",
    "\n",
    "**(c)** Representasikan bilangan ini dalam format floating-point IEEE 754 presisi tunggal (32-bit) dengan menjelaskan tiga komponen utamanya: bit tanda, eksponen (dengan pergeseran 127), dan mantisa.\n",
    "\n",
    "**Jawab:**\n",
    "* Bit tanda: Bilangan positif, maka bit tanda adalah 0.\n",
    "* Eksponen (8 bit): Eksponen bias = $E$ + bias = 2 + 127 = 129. 129 dalam biner adalah 10000001.\n",
    "* Mantisa (23 bit): Mantisa adalah 1101. Tambahkan 0 di belakang hingga 23 bit: 11010000000000000000000.\n",
    "* Representasi akhir: 0 10000001 11010000000000000000000\n",
    "\n",
    "**(d)** Diskusikan bagaimana keterbatasan representasi (ukuran variabel 32-bit) dapat mempengaruhi presisi perhitungan, serta dampak potensial dari galat pembulatan pada perhitungan numerik yang melibatkan bilangan tersebut.\n",
    "\n",
    "**Jawab:**\n",
    "* Keterbatasan representasi: Format floating-point 32-bit memiliki keterbatasan dalam merepresentasikan bilangan riil. Hanya sebagian kecil bilangan riil yang dapat direpresentasikan secara eksak. Bilangan lainnya akan dibulatkan ke bilangan terdekat yang dapat direpresentasikan. Hal ini dapat menyebabkan galat pembulatan.\n",
    "* Dampak galat pembulatan: Galat pembulatan dapat terakumulasi dalam perhitungan numerik yang panjang. Dalam operasi aritmatika, galat pembulatan dapat menyebabkan hilangnya presisi. Misalnya, jika kita menambahkan bilangan yang sangat kecil ke bilangan yang sangat besar, bilangan kecil tersebut mungkin akan hilang karena keterbatasan mantisa. Dalam perhitungan iteratif, galat pembulatan dapat menyebabkan divergensi atau hasil yang tidak akurat."
   ]
  }
 ],
 "metadata": {
  "kernelspec": {
   "display_name": "Python 3",
   "language": "python",
   "name": "python3"
  },
  "language_info": {
   "codemirror_mode": {
    "name": "ipython",
    "version": 3
   },
   "file_extension": ".py",
   "mimetype": "text/x-python",
   "name": "python",
   "nbconvert_exporter": "python",
   "pygments_lexer": "ipython3",
   "version": "3.11.9"
  }
 },
 "nbformat": 4,
 "nbformat_minor": 2
}
